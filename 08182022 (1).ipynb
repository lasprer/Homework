{
 "cells": [
  {
   "cell_type": "markdown",
   "id": "a6f2313f-e9f2-476f-8815-113bd6d89795",
   "metadata": {},
   "source": [
    "# My Jupyter Notebook on IBM Watson Studio"
   ]
  },
  {
   "cell_type": "markdown",
   "id": "22a14912-a03d-45fb-b8c3-98e0eeaf6849",
   "metadata": {},
   "source": [
    "**Lia Asprer**  \n",
    "Research Associate"
   ]
  },
  {
   "cell_type": "markdown",
   "id": "6ffd090b-4224-4d13-a19c-f4c481babee0",
   "metadata": {},
   "source": [
    "*I am interested in Data Science because I am always looking for more efficient methods to analyze my data. As a research associate I collect hundreds of data points daily that can be overwhelming to properly analyze manually.*"
   ]
  },
  {
   "cell_type": "markdown",
   "id": "b3d1dd74-5140-44e6-8e1e-376b2a717b42",
   "metadata": {},
   "source": [
    "### The code in cell 5 will add 1+1"
   ]
  },
  {
   "cell_type": "code",
   "execution_count": 4,
   "id": "d9cba3ee-32a6-4234-a70a-59e1330a827b",
   "metadata": {},
   "outputs": [
    {
     "data": {
      "text/plain": [
       "2"
      ]
     },
     "execution_count": 4,
     "metadata": {},
     "output_type": "execute_result"
    }
   ],
   "source": [
    "1+1"
   ]
  },
  {
   "cell_type": "markdown",
   "id": "93d7e34e-9911-4430-85c4-6a9ac8dd417f",
   "metadata": {},
   "source": [
    "1. Banana\n",
    "  2. Apple\n",
    "  3. ~~Mango~~\n",
    "  ___\n",
    "  >Grapes of Wrath"
   ]
  },
  {
   "cell_type": "code",
   "execution_count": null,
   "id": "6768afda-0704-41b7-a2e8-a260143d4321",
   "metadata": {},
   "outputs": [],
   "source": []
  }
 ],
 "metadata": {
  "kernelspec": {
   "display_name": "Python",
   "language": "python",
   "name": "conda-env-python-py"
  },
  "language_info": {
   "codemirror_mode": {
    "name": "ipython",
    "version": 3
   },
   "file_extension": ".py",
   "mimetype": "text/x-python",
   "name": "python",
   "nbconvert_exporter": "python",
   "pygments_lexer": "ipython3",
   "version": "3.7.12"
  }
 },
 "nbformat": 4,
 "nbformat_minor": 5
}
